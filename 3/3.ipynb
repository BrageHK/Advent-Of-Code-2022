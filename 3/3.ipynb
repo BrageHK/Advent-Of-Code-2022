{
 "cells": [
  {
   "cell_type": "code",
   "execution_count": 62,
   "id": "37d9e546",
   "metadata": {},
   "outputs": [
    {
     "name": "stdout",
     "output_type": "stream",
     "text": [
      "7863\n"
     ]
    }
   ],
   "source": [
    "# Star 1:\n",
    "\n",
    "with open(\"input\", \"r\") as file:\n",
    "    points = 0\n",
    "    line = file.readlines()\n",
    "    \n",
    "    for i in range(0,len(line)):\n",
    "        str = line[i].strip('\\n')\n",
    "        first = str[0:len(str)//2]\n",
    "        second = str[len(str)//2:len(str)]\n",
    "        for j in range(0, len(str)//2):\n",
    "            for k in range(len(str)//2, len(str)):\n",
    "                if str[j] == str[k]:\n",
    "                    if 64 < ord(str[j]) < 91:\n",
    "                        points += ord(str[j])-64+26\n",
    "                    else:\n",
    "                        points += ord(str[j])-96\n",
    "                    \n",
    "                    \n",
    "                    #print(ord(str[j]),\" \",i)\n",
    "                    break\n",
    "            else:\n",
    "                 continue\n",
    "            \n",
    "            break\n",
    "            \n",
    "print(points)"
   ]
  },
  {
   "cell_type": "code",
   "execution_count": 63,
   "id": "1e79baed",
   "metadata": {
    "scrolled": true
   },
   "outputs": [
    {
     "name": "stdout",
     "output_type": "stream",
     "text": [
      "2488\n"
     ]
    }
   ],
   "source": [
    "# Star 2:\n",
    "\n",
    "with open(\"input\", \"r\") as file:\n",
    "    points = 0\n",
    "    \n",
    "    \n",
    "    line = file.readlines()\n",
    "    \n",
    "    for i in range(2,len(line),3):\n",
    "        first = line[i-2].strip('\\n')\n",
    "        second = line[i-1].strip('\\n')\n",
    "        third = line[i].strip('\\n')\n",
    "        \n",
    "        for j in range(0, len(first)):\n",
    "            counter = 0\n",
    "            letter1 = first[j]\n",
    "\n",
    "            for k in range(0, len(second)):\n",
    "                letter2 = second[k]\n",
    "                \n",
    "                if letter1 == letter2:\n",
    "                    counter += 1\n",
    "                    break\n",
    "            \n",
    "            for l in range(0, len(third)):\n",
    "                if counter == 0:\n",
    "                    continue\n",
    "                letter2 = third[l]\n",
    "                \n",
    "                if letter1 == letter2:\n",
    "                    counter += 1\n",
    "                \n",
    "                if counter == 2:\n",
    "                    if 64 < ord(first[j]) < 91:\n",
    "                        points += ord(first[j])-64+26\n",
    "                    else:\n",
    "                        points += ord(first[j])-96\n",
    "                    break\n",
    "                    \n",
    "            else:\n",
    "                 continue\n",
    "            \n",
    "            break        \n",
    "            \n",
    "print(points)"
   ]
  },
  {
   "cell_type": "code",
   "execution_count": null,
   "id": "c8ad8bc1",
   "metadata": {},
   "outputs": [],
   "source": []
  }
 ],
 "metadata": {
  "kernelspec": {
   "display_name": "Python 3 (ipykernel)",
   "language": "python",
   "name": "python3"
  },
  "language_info": {
   "codemirror_mode": {
    "name": "ipython",
    "version": 3
   },
   "file_extension": ".py",
   "mimetype": "text/x-python",
   "name": "python",
   "nbconvert_exporter": "python",
   "pygments_lexer": "ipython3",
   "version": "3.9.7"
  }
 },
 "nbformat": 4,
 "nbformat_minor": 5
}
