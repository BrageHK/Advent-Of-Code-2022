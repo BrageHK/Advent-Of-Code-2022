{
 "cells": [
  {
   "cell_type": "code",
   "execution_count": 30,
   "id": "e722fbb6",
   "metadata": {},
   "outputs": [
    {
     "name": "stdout",
     "output_type": "stream",
     "text": [
      "459\n"
     ]
    }
   ],
   "source": [
    "# star 1:\n",
    "import re\n",
    "\n",
    "with open(\"input.txt\", \"r\") as file:\n",
    "    line = file.readlines()\n",
    "   \n",
    "    fullyContains = 0\n",
    "    numbers = [0,0,0,0]\n",
    "    \n",
    "    for i in range(0,len(line)):\n",
    "        numberString = \"\"\n",
    "        j = 0\n",
    "        for char in line[i]:\n",
    "            if char == \"-\" or char == \",\" or char == \"\\n\":\n",
    "                numbers[j] = int(numberString)\n",
    "                numberString = \"\"\n",
    "                j += 1\n",
    "            else:\n",
    "                numberString += char\n",
    "                \n",
    "        if (numbers[0] <= numbers[2] and numbers[1] >= numbers[3]) or (numbers[0] >= numbers[2] and numbers[1] <= numbers[3]):\n",
    "            fullyContains += 1\n",
    "        \n",
    "print(fullyContains)"
   ]
  },
  {
   "cell_type": "code",
   "execution_count": 59,
   "id": "97dc3c3d",
   "metadata": {},
   "outputs": [
    {
     "name": "stdout",
     "output_type": "stream",
     "text": [
      "779\n"
     ]
    }
   ],
   "source": [
    "# star 2:\n",
    "import re\n",
    "\n",
    "with open(\"input.txt\", \"r\") as file:\n",
    "    line = file.readlines()\n",
    "   \n",
    "    contains = 0\n",
    "    numbers = [0,0,0,0]\n",
    "    \n",
    "    for i in range(0,len(line)):\n",
    "        numberString = \"\"\n",
    "        j = 0\n",
    "        for char in line[i]:\n",
    "            if char == \"-\" or char == \",\" or char == \"\\n\":\n",
    "                numbers[j] = int(numberString)\n",
    "                numberString = \"\"\n",
    "                j += 1\n",
    "            else:\n",
    "                numberString += char\n",
    "        \n",
    "        for k in range(numbers[0], numbers[1]+1):\n",
    "            for h in range(numbers[2], numbers[3]+1):\n",
    "                if h == k:\n",
    "                    contains += 1\n",
    "                    break\n",
    "            else:\n",
    "                continue\n",
    "            break\n",
    "       \n",
    "    print(contains)"
   ]
  },
  {
   "cell_type": "code",
   "execution_count": null,
   "id": "d7d7c917",
   "metadata": {},
   "outputs": [],
   "source": []
  },
  {
   "cell_type": "code",
   "execution_count": null,
   "id": "ea243221",
   "metadata": {},
   "outputs": [],
   "source": []
  }
 ],
 "metadata": {
  "kernelspec": {
   "display_name": "Python 3",
   "language": "python",
   "name": "python3"
  },
  "language_info": {
   "codemirror_mode": {
    "name": "ipython",
    "version": 3
   },
   "file_extension": ".py",
   "mimetype": "text/x-python",
   "name": "python",
   "nbconvert_exporter": "python",
   "pygments_lexer": "ipython3",
   "version": "3.8.8"
  }
 },
 "nbformat": 4,
 "nbformat_minor": 5
}
