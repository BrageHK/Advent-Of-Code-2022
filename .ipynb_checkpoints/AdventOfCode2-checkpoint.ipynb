{
 "cells": [
  {
   "cell_type": "code",
   "execution_count": 17,
   "id": "81ec4ff8",
   "metadata": {},
   "outputs": [
    {
     "name": "stdout",
     "output_type": "stream",
     "text": [
      "10595\n"
     ]
    }
   ],
   "source": [
    "#stone = 1\n",
    "#paper = 2\n",
    "#scissors = 3\n",
    "\n",
    "# Star 1:\n",
    "\n",
    "with open(\"input2.txt\", \"r\") as file:\n",
    "    def func(letter):\n",
    "        if(letter == \"A\" or letter == \"X\\n\"):\n",
    "            return 1\n",
    "        elif(letter == \"B\" or letter == \"Y\\n\"):\n",
    "            return 2\n",
    "        else:\n",
    "            return 3\n",
    "    \n",
    "    line = file.readlines()\n",
    "    points = 0\n",
    "    \n",
    "    for i in range(0,len(line)):\n",
    "        linelist = line[i].split(\" \", 2)\n",
    "        p1 = func(linelist[0])\n",
    "        p2 = func(linelist[1])\n",
    "        \n",
    "        if(p1 == p2): #draw\n",
    "            points += p2 + 3\n",
    "        elif(((p1)%3+1) == p2): #Win\n",
    "            points += p2 + 6\n",
    "        else: #lose\n",
    "            points += p2\n",
    "\n",
    "print(points)"
   ]
  },
  {
   "cell_type": "code",
   "execution_count": null,
   "id": "3da141bf",
   "metadata": {},
   "outputs": [],
   "source": [
    "# Star 2:\n",
    "\n",
    "with open(\"input2.txt\", \"r\") as file:\n",
    "    def func(letter):\n",
    "        if(letter == \"A\" or letter == \"X\\n\"):\n",
    "            return 1\n",
    "        elif(letter == \"B\" or letter == \"Y\\n\"):\n",
    "            return 2\n",
    "        else:\n",
    "            return 3\n",
    "    \n",
    "    line = file.readlines()\n",
    "    points = 0\n",
    "    \n",
    "    for i in range(0,len(line)):\n",
    "        linelist = line[i].split(\" \", 2)\n",
    "        p1 = func(linelist[0])\n",
    "        thisletter = linelist[1]\n",
    "        if(thisletter == \"X\\n\"): #lose\n",
    "            if(p1 == 1):\n",
    "                p2 = 3\n",
    "            else:\n",
    "                p2 = p1-1\n",
    "        elif(thisletter == \"Y\\n\"): #draw\n",
    "            p2 = p1\n",
    "        elif(thisletter == \"Z\\n\"): #win\n",
    "            p2 = (p1)%3+1\n",
    "        \n",
    "        if(p1 == p2): #draw\n",
    "            points += p2 + 3\n",
    "        elif(((p1)%3+1) == p2): #Win\n",
    "            points += p2 + 6\n",
    "        else: #lose\n",
    "            points += p2\n",
    "            \n",
    "print(points)"
   ]
  }
 ],
 "metadata": {
  "kernelspec": {
   "display_name": "Python 3",
   "language": "python",
   "name": "python3"
  },
  "language_info": {
   "codemirror_mode": {
    "name": "ipython",
    "version": 3
   },
   "file_extension": ".py",
   "mimetype": "text/x-python",
   "name": "python",
   "nbconvert_exporter": "python",
   "pygments_lexer": "ipython3",
   "version": "3.8.8"
  }
 },
 "nbformat": 4,
 "nbformat_minor": 5
}
